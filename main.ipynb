{
 "cells": [
  {
   "cell_type": "code",
   "execution_count": 2,
   "id": "50fbe0d9",
   "metadata": {},
   "outputs": [],
   "source": [
    "import pandas as pd\n",
    "import numpy as np\n",
    "\n",
    "import joblib\n",
    "\n",
    "from xgboost import XGBRegressor\n",
    "\n",
    "from sklearn.model_selection import train_test_split, GridSearchCV\n",
    "from sklearn.pipeline import Pipeline\n",
    "from sklearn.compose import ColumnTransformer\n",
    "from sklearn.impute import SimpleImputer\n",
    "from sklearn.preprocessing import StandardScaler, OneHotEncoder\n",
    "from sklearn.metrics import mean_squared_error, r2_score"
   ]
  },
  {
   "cell_type": "code",
   "execution_count": null,
   "id": "7ce0dbc4",
   "metadata": {},
   "outputs": [
    {
     "name": "stdout",
     "output_type": "stream",
     "text": [
      "(1000, 7)\n",
      "Кусок считанных данных:\n",
      "    Brand  Processor_Speed  RAM_Size  Storage_Capacity  Screen_Size    Weight  \\\n",
      "0    Asus         3.830296        16               512    11.185147  2.641094   \n",
      "1    Acer         2.912833         4              1000    11.311372  3.260012   \n",
      "2  Lenovo         3.241627         4               256    11.853023  2.029061   \n",
      "3    Acer         3.806248        16               512    12.280360  4.573865   \n",
      "4    Acer         3.268097        32              1000    14.990877  4.193472   \n",
      "\n",
      "          Price  \n",
      "0  17395.093065  \n",
      "1  31607.605919  \n",
      "2   9291.023542  \n",
      "3  17436.728334  \n",
      "4  32917.990718  \n",
      "<class 'pandas.core.frame.DataFrame'>\n",
      "RangeIndex: 1000 entries, 0 to 999\n",
      "Data columns (total 7 columns):\n",
      " #   Column            Non-Null Count  Dtype  \n",
      "---  ------            --------------  -----  \n",
      " 0   Brand             1000 non-null   object \n",
      " 1   Processor_Speed   1000 non-null   float64\n",
      " 2   RAM_Size          1000 non-null   int64  \n",
      " 3   Storage_Capacity  1000 non-null   int64  \n",
      " 4   Screen_Size       1000 non-null   float64\n",
      " 5   Weight            1000 non-null   float64\n",
      " 6   Price             1000 non-null   float64\n",
      "dtypes: float64(4), int64(2), object(1)\n",
      "memory usage: 54.8+ KB\n",
      "==================================\n",
      "X_train.shape=(800, 6)\n",
      "X_test.shape=(200, 6)\n",
      "=== Кусок X_train: ===\n",
      "    Brand  Processor_Speed  RAM_Size  Storage_Capacity  Screen_Size    Weight\n",
      "29   Asus         3.799639         8              1000    12.853007  2.151678\n",
      "535  Acer         3.298004        16               512    15.144079  2.587267\n",
      "695    HP         2.433129         4               512    15.046398  2.264456\n",
      "557  Acer         3.313144        32               512    12.836309  2.376126\n",
      "836    HP         3.162279        16               512    14.701664  2.943887\n",
      "=== Типы данных: ===\n",
      "Brand                object\n",
      "Processor_Speed     float64\n",
      "RAM_Size              int64\n",
      "Storage_Capacity      int64\n",
      "Screen_Size         float64\n",
      "Weight              float64\n",
      "dtype: object\n"
     ]
    }
   ],
   "source": [
    "file_path = 'laptop_price.csv'\n",
    "df = pd.read_csv(file_path)\n",
    "\n",
    "# базовая инфо\n",
    "print(\n",
    "    df.shape,\n",
    "    \"Кусок считанных данных:\",\n",
    "    df.head(),\n",
    "    sep=\"\\n\"\n",
    ")\n",
    "df.info()\n",
    "\n",
    "# логарифмированная цена будет использоваться для тренировки\n",
    "df['Price_Log'] = np.log1p(df['Price'])\n",
    "\n",
    "# цена нам больше не нужна\n",
    "X = df.drop(columns=['Price', 'Price_Log'])\n",
    "y = df['Price_Log']\n",
    "\n",
    "# разбиваем данные для тренировки\n",
    "X_train, X_test, y_train, y_test = train_test_split(X, y, test_size=0.2, random_state=42)\n",
    "\n",
    "print(\"==================================\")\n",
    "\n",
    "print(\n",
    "    f\"{X_train.shape=}\",\n",
    "    f\"{X_test.shape=}\",\n",
    "    f\"=== Кусок X_train: ===\\n{X_train.head()}\",\n",
    "    f\"=== Типы данных: ===\\n{X_train.dtypes}\",\n",
    "    sep=\"\\n\"\n",
    ")"
   ]
  },
  {
   "cell_type": "code",
   "execution_count": null,
   "id": "998a8a62",
   "metadata": {},
   "outputs": [
    {
     "name": "stdout",
     "output_type": "stream",
     "text": [
      "(Числовые признаки): ['Processor_Speed', 'RAM_Size', 'Storage_Capacity', 'Screen_Size', 'Weight']\n",
      "(Категориальные признаки): ['Brand']\n"
     ]
    }
   ],
   "source": [
    "# Определяем признаки в X_train\n",
    "numerical_features = X_train.select_dtypes(include=['int64', 'float64']).columns.tolist() # числовые\n",
    "categorical_features = X_train.select_dtypes(include=['object']).columns.tolist()      # категориальные\n",
    "\n",
    "print(\"(Числовые признаки):\", numerical_features)\n",
    "print(\"(Категориальные признаки):\", categorical_features)"
   ]
  },
  {
   "cell_type": "code",
   "execution_count": null,
   "id": "5a0b2c2c",
   "metadata": {},
   "outputs": [],
   "source": [
    "# Пайплайн для числовых категорий\n",
    "numerical_transformer = Pipeline(steps=[\n",
    "    ('imputer', SimpleImputer(strategy='median')),\n",
    "    ('scaler', StandardScaler())\n",
    "])\n",
    "\n",
    "# Пайплайн для категориальных категорий\n",
    "categorical_transformer = Pipeline(steps=[\n",
    "    ('imputer', SimpleImputer(strategy='most_frequent')),\n",
    "    ('onehot', OneHotEncoder(handle_unknown='ignore', sparse_output=False))\n",
    "])\n",
    "\n",
    "# Трансформер для применения и группировки признаков в один\n",
    "preprocessor = ColumnTransformer(\n",
    "    transformers=[\n",
    "        ('num', numerical_transformer, numerical_features),\n",
    "        ('cat', categorical_transformer, categorical_features)\n",
    "    ],\n",
    "    remainder='passthrough' # на всякий случай\n",
    ")"
   ]
  },
  {
   "cell_type": "code",
   "execution_count": 27,
   "id": "b23c22d3",
   "metadata": {},
   "outputs": [
    {
     "name": "stdout",
     "output_type": "stream",
     "text": [
      "Обучение...\n",
      "завершено.\n",
      "Пайплайн сохранен в laptop_price_pipeline.pkl\n"
     ]
    }
   ],
   "source": [
    "# испольузем модель регрессии со стандартными параметрами\n",
    "model = XGBRegressor(n_estimators=100, learning_rate=0.1, max_depth=5, random_state=42, objective='reg:squarederror')\n",
    "\n",
    "# создаем полноценный пайплайн для машинного обучения\n",
    "# сначала препроцессор, потом регрессор\n",
    "ml_pipeline = Pipeline(steps=[\n",
    "    ('preprocessor', preprocessor),\n",
    "    ('regressor', model)\n",
    "])\n",
    "\n",
    "# Обучение конвейера на тренировочных данных\n",
    "print(\"Обучение...\")\n",
    "ml_pipeline.fit(X_train, y_train) # обучаем на предыдущих данных\n",
    "print(\"завершено.\")\n",
    "\n",
    "# пиклим пайплайн в файл, чтобы его можно было сохранить\n",
    "pipeline_filename = 'laptop_price_pipeline.pkl'\n",
    "joblib.dump(ml_pipeline, pipeline_filename)\n",
    "print(f\"Пайплайн сохранен в {pipeline_filename}\")"
   ]
  },
  {
   "cell_type": "code",
   "execution_count": null,
   "id": "6297ea2c",
   "metadata": {},
   "outputs": [
    {
     "name": "stdout",
     "output_type": "stream",
     "text": [
      "Результаты тренировки\n",
      "     Реальная цена  Предсказ. цена\n",
      "521   10900.502075    10523.270508\n",
      "737   31727.516697    31459.175781\n",
      "740    9636.022750     9646.339844\n",
      "660    9412.599857     9260.269531\n",
      "411   31641.105861    31977.861328\n"
     ]
    }
   ],
   "source": [
    "# теперь можно использовать модель для предсказания данных\n",
    "y_pred_log = ml_pipeline.predict(X_test)\n",
    "\n",
    "# возвращаемся от логарифмических цен к нормальным\n",
    "y_pred_actual = np.expm1(y_pred_log)\n",
    "\n",
    "# ditto\n",
    "y_test_actual = np.expm1(y_test)\n",
    "\n",
    "# Отображение нескольких примеров предсказаний по сравнению с фактическими значениями\n",
    "comparison_df = pd.DataFrame({'Реальная цена': y_test_actual, 'Предсказ. цена': y_pred_actual})\n",
    "print(\"Результаты тренировки\")\n",
    "print(comparison_df.head())\n",
    "\n",
    "# Ура!"
   ]
  }
 ],
 "metadata": {
  "kernelspec": {
   "display_name": "itip-4-1",
   "language": "python",
   "name": "python3"
  },
  "language_info": {
   "codemirror_mode": {
    "name": "ipython",
    "version": 3
   },
   "file_extension": ".py",
   "mimetype": "text/x-python",
   "name": "python",
   "nbconvert_exporter": "python",
   "pygments_lexer": "ipython3",
   "version": "3.13.2"
  }
 },
 "nbformat": 4,
 "nbformat_minor": 5
}
